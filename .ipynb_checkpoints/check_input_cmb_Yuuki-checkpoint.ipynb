{
 "cells": [
  {
   "cell_type": "code",
   "execution_count": 1,
   "metadata": {},
   "outputs": [],
   "source": [
    "%load_ext autoreload\n",
    "%autoreload 2\n",
    "\n",
    "%matplotlib inline\n",
    "from pylab import *\n",
    "from matplotlib import rc;rc('text', usetex=True);rc('font', weight='bold');matplotlib.rcParams['text.latex.preamble'] = [r'\\boldmath']\n",
    "rcParams['figure.dpi'] = 150\n",
    "rcParams[\"figure.facecolor\"] = 'white'\n",
    "try:\n",
    "    import os\n",
    "    rc('text.latex',preamble=r'\\usepackage{%s/apjfonts}' %(str(os.getcwd())))\n",
    "except:\n",
    "    pass"
   ]
  },
  {
   "cell_type": "code",
   "execution_count": 2,
   "metadata": {},
   "outputs": [],
   "source": [
    "import argparse, sys, numpy as np, scipy as sc, warnings, os, healpy as H\n",
    "sys.path.append('/Users/sraghunathan/Research/SPTPol/analysis/git/tools/')\n",
    "#or look into https://github.com/sriniraghunathan/tools\n",
    "import flatsky, tools, misc\n",
    "import ilc, foregrounds as fg\n",
    "\n",
    "import matplotlib.cbook\n",
    "warnings.filterwarnings('ignore',category=RuntimeWarning)\n",
    "warnings.filterwarnings('ignore', category=DeprecationWarning)\n",
    "warnings.filterwarnings('ignore', category=matplotlib.cbook.mplDeprecation)"
   ]
  },
  {
   "cell_type": "code",
   "execution_count": 3,
   "metadata": {},
   "outputs": [],
   "source": [
    "nside = 2048\n",
    "opbeam = 1.4\n",
    "verbose = 0\n",
    "lmax = 3000\n",
    "Tcmb = 2.73"
   ]
  },
  {
   "cell_type": "code",
   "execution_count": 8,
   "metadata": {},
   "outputs": [],
   "source": [
    "ip_cmb_mapname = 'S4_march_2020/output/lensed_cmb_nside2048.fits'\n",
    "cmb_map_input_yuuki = H.read_map(ip_cmb_mapname, field = (0), verbose = verbose)\n",
    "if H.get_nside(cmb_map_input_yuuki) != nside:\n",
    "    cmb_map_input_yuuki = H.ud_grade(cmb_map_input_yuuki, nside)\n",
    "#cmb_map_input_yuuki_smoothed = H.smoothing(np.copy(cmb_map_input_yuuki), fwhm = np.radians(opbeam/60.), lmax = lmax, verbose = verbose)"
   ]
  },
  {
   "cell_type": "code",
   "execution_count": 13,
   "metadata": {},
   "outputs": [],
   "source": [
    "#Cls\n",
    "Cls_input_ori = H.anafast(cmb_map_input_yuuki, lmax = lmax)\n",
    "#Cls_input_smoothed_ori = H.anafast(cmb_map_input_yuuki_smoothed, lmax = lmax)"
   ]
  },
  {
   "cell_type": "code",
   "execution_count": 14,
   "metadata": {},
   "outputs": [
    {
     "data": {
      "text/plain": [
       "'\\nBl = H.gauss_beam(np.radians(opbeam/60.), lmax=lmax)\\nCls_input = np.copy(Cls_input_ori)# / Bl**2.\\nCls_input_beam_deconv = np.copy(Cls_input_ori) / Bl**2.\\n#Cls_input_smoothed = np.copy(Cls_input_smoothed_ori) / Bl**2.\\n'"
      ]
     },
     "execution_count": 14,
     "metadata": {},
     "output_type": "execute_result"
    }
   ],
   "source": [
    "'''\n",
    "Bl = H.gauss_beam(np.radians(opbeam/60.), lmax=lmax)\n",
    "Cls_input = np.copy(Cls_input_ori)# / Bl**2.\n",
    "Cls_input_beam_deconv = np.copy(Cls_input_ori) / Bl**2.\n",
    "#Cls_input_smoothed = np.copy(Cls_input_smoothed_ori) / Bl**2.\n",
    "'''"
   ]
  },
  {
   "cell_type": "code",
   "execution_count": 16,
   "metadata": {},
   "outputs": [
    {
     "data": {
      "image/png": "[encoded data removed]",
      "text/plain": [
       "<Figure size 432x288 with 1 Axes>"
      ]
     },
     "metadata": {
      "needs_background": "light"
     },
     "output_type": "display_data"
    }
   ],
   "source": [
    "#pixel window\n",
    "p_l_ori = H.pixwin(8192)**2.\n",
    "p_l_new = H.pixwin(nside)**2.\n",
    "p_l_ratio = p_l_ori[:lmax]/p_l_new[:lmax]\n",
    "plot(p_l_ori);plot(p_l_new);plot(p_l_ratio)\n",
    "\n",
    "\n",
    "Cls_input = np.copy(Cls_input_ori)[:lmax] * p_l_ratio"
   ]
  },
  {
   "cell_type": "code",
   "execution_count": 17,
   "metadata": {},
   "outputs": [
    {
     "name": "stdout",
     "output_type": "stream",
     "text": [
      "29899\n"
     ]
    }
   ],
   "source": [
    "#Yuuki's Cls\n",
    "camb_mdlp2 = 'mdpl2_lensedCls.dat'\n",
    "el_camb, dl_TT = np.loadtxt(camb_mdlp2, usecols=[0,1], unpack = 1)\n",
    "Dls_fac = (el_camb * (el_camb + 1)) / 2 / np.pi\n",
    "cl_TT = dl_TT / Dls_fac\n",
    "print(len(el_camb))"
   ]
  },
  {
   "cell_type": "code",
   "execution_count": 18,
   "metadata": {},
   "outputs": [
    {
     "data": {
      "text/plain": [
       "(0.1, 10000.0)"
      ]
     },
     "execution_count": 18,
     "metadata": {},
     "output_type": "execute_result"
    },
    {
     "data": {
      "image/png": "[encoded data removed]",
      "text/plain": [
       "<Figure size 432x288 with 1 Axes>"
      ]
     },
     "metadata": {
      "needs_background": "light"
     },
     "output_type": "display_data"
    }
   ],
   "source": [
    "ax = subplot(111, yscale = 'log')#, xscale = 'log')\n",
    "els_ = np.arange(len(Cls_input))\n",
    "Dls_fac = (els_ * (els_ + 1)) / 2 / np.pi\n",
    "plot(Dls_fac * Cls_input, 'orangered', label = r'Input')\n",
    "#plot(Dls_fac * Cls_input_beam_deconv, 'limegreen', label = r'Input - Beam deconvolved')\n",
    "\n",
    "Dls_fac = (el_camb * (el_camb + 1)) / 2 / np.pi\n",
    "plot(el_camb, Dls_fac * cl_TT, 'k-', label = r'CMB theory')\n",
    "\n",
    "legend(loc=3)\n",
    "ylabel(r'$D_{\\ell}$')\n",
    "xlabel(r'Multipole $\\ell$')\n",
    "xlim(0, lmax); ylim(1e-1, 1e4)"
   ]
  },
  {
   "cell_type": "code",
   "execution_count": null,
   "metadata": {},
   "outputs": [],
   "source": []
  }
 ],
 "metadata": {
  "kernelspec": {
   "display_name": "Python 3",
   "language": "python",
   "name": "python3"
  },
  "language_info": {
   "codemirror_mode": {
    "name": "ipython",
    "version": 3
   },
   "file_extension": ".py",
   "mimetype": "text/x-python",
   "name": "python",
   "nbconvert_exporter": "python",
   "pygments_lexer": "ipython3",
   "version": "3.7.3"
  }
 },
 "nbformat": 4,
 "nbformat_minor": 2
}
