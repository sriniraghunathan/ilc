{
 "cells": [
  {
   "cell_type": "code",
   "execution_count": 37,
   "metadata": {},
   "outputs": [
    {
     "name": "stdout",
     "output_type": "stream",
     "text": [
      "The autoreload extension is already loaded. To reload it, use:\n",
      "  %reload_ext autoreload\n"
     ]
    }
   ],
   "source": [
    "%load_ext autoreload\n",
    "%autoreload 2\n",
    "\n",
    "#%pylab notebook\n",
    "%matplotlib inline\n",
    "from pylab import *\n",
    "from matplotlib import rc;rc('text', usetex=True);rc('font', weight='bold');matplotlib.rcParams['text.latex.preamble'] = [r'\\boldmath']\n",
    "rcParams['figure.dpi'] = 150\n",
    "rcParams[\"figure.facecolor\"] = 'white'\n",
    "try:\n",
    "    import os\n",
    "    rc('text.latex',preamble=r'\\usepackage{%s/apjfonts}' %(str(os.getcwd())))\n",
    "except:\n",
    "    pass"
   ]
  },
  {
   "cell_type": "code",
   "execution_count": 38,
   "metadata": {},
   "outputs": [],
   "source": [
    "import argparse, sys, numpy as np, scipy as sc, warnings, os\n",
    "#sys.path.append('/Users/sraghunathan/Research/SPTPol/analysis/git/tools/')\n",
    "#or look into https://github.com/sriniraghunathan/tools\n",
    "import flatsky, tools, misc\n",
    "import ilc, foregrounds as fg\n",
    "\n",
    "#import matplotlib.cbook\n",
    "warnings.filterwarnings('ignore',category=RuntimeWarning)\n",
    "#warnings.filterwarnings('ignore', category=DeprecationWarning)\n",
    "#warnings.filterwarnings('ignore', category=matplotlib.cbook.mplDeprecation)"
   ]
  },
  {
   "cell_type": "code",
   "execution_count": 39,
   "metadata": {},
   "outputs": [],
   "source": [
    "#some constants\n",
    "h=6.62607004e-34 #Planck constant in m2 kg / s\n",
    "k_B=1.38064852e-23 #Boltzmann constant in m2 kg s-2 / K-1\n",
    "Tcmb = 2.73 #Kelvin"
   ]
  },
  {
   "cell_type": "code",
   "execution_count": 65,
   "metadata": {},
   "outputs": [],
   "source": [
    "#params\n",
    "paramfile = 'params.ini'\n",
    "freqarr = [90, 150, 220, 270]\n",
    "#expname = 's4wide'\n",
    "expname = 's4deep'\n",
    "if expname == 's4wide':\n",
    "    #S4 specs\n",
    "    specs_dic = {\n",
    "    #freq: [beam_arcmins, white_noise_T, elknee_T, alphaknee_T, whitenoise_P, elknee_P, alphaknee_P] \n",
    "    #20: [10.0, None, None, None, None, None, None],\n",
    "    #27: [7.4, 21.8, 471., 3.5, 30.8, 700, 1.4],\n",
    "    #39: [5.1, 12.4, 428., 3.5, 17.6, 700, 1.4], \n",
    "    93: [2.2, 2.0, 2154., 3.5, 2.9, 700, 1.4],\n",
    "    145: [1.4, 2.0, 4364., 3.5, 2.8, 700, 1.4],\n",
    "    225: [1.0, 6.9, 7334., 3.5, 9.8, 700, 1.4],\n",
    "    278: [0.9, 16.7, 7308., 3.5, 23.6, 700, 1.4],\n",
    "    }\n",
    "\n",
    "    '''\n",
    "    specs_dic = {\n",
    "    #freq: [beam_arcmins, white_noise_T, elknee_T, alphaknee_T, whitenoise_P, elknee_P, alphaknee_P] \n",
    "    #20: [10.0, None, None, None, None, None, None],\n",
    "    #27: [7.4, 21.8, 471., 3.5, 30.8, 700, 1.4],\n",
    "    #39: [5.1, 12.4, 428., 3.5, 17.6, 700, 1.4], \n",
    "    93: [2.2, 2.0, 2154., 0, 2.9, 700, 1.4],\n",
    "    145: [1.4, 2.0, 4364., 0, 2.8, 700, 1.4],\n",
    "    225: [1.0, 6.9, 7334., 0, 9.8, 700, 1.4],\n",
    "    278: [0.9, 16.7, 7308., 0, 23.6, 700, 1.4],\n",
    "    }\n",
    "    '''\n",
    "elif expname == 's4deep':\n",
    "    specs_dic = {\n",
    "    #freq: [beam_arcmins, white_noise_T, elknee_T, alphaknee_T, whitenoise_P, elknee_P, alphaknee_P] \n",
    "    #20: [10.0, None, None, None, None, None, None],\n",
    "    #27: [7.4, 21.8, 471., 3.5, 30.8, 700, 1.4],\n",
    "    #39: [5.1, 12.4, 428., 3.5, 17.6, 700, 1.4], \n",
    "    93: [2.2, 0.48, 2154., 3.5, 0.68, 700, 1.4],\n",
    "    145: [1.4, 0.67, 4364., 3.5, 0.96, 700, 1.4],\n",
    "    225: [1.0, 4.04, 7334., 3.5, 5.72, 700, 1.4],\n",
    "    278: [0.9, 6.92, 7308., 3.5, 9.8, 700, 1.4],\n",
    "    }\n",
    "\n",
    "    '''\n",
    "    specs_dic = {\n",
    "    #freq: [beam_arcmins, white_noise_T, elknee_T, alphaknee_T, whitenoise_P, elknee_P, alphaknee_P] \n",
    "    #20: [10.0, None, None, None, None, None, None],\n",
    "    #27: [7.4, 21.8, 471., 3.5, 30.8, 700, 1.4],\n",
    "    #39: [5.1, 12.4, 428., 3.5, 17.6, 700, 1.4], \n",
    "    93: [2.2, 0.48, 2154., 0., 0.68, 700, 1.4],\n",
    "    145: [1.4, 0.67, 4364., 0., 0.96, 700, 1.4],\n",
    "    225: [1.0, 4.04, 7334., 0., 5.72, 700, 1.4],\n",
    "    278: [0.9, 6.92, 7308., 0., 9.8, 700, 1.4],\n",
    "    }\n",
    "    '''\n",
    "\n",
    "\n",
    "freqarr = sorted( specs_dic.keys() )\n",
    "\n",
    "corr_noise_bands = {27:[39], 39:[27], 93:[145], 145:[93], 225: [278], 278: [225]}\n",
    "rho = 0.9\n",
    "\n",
    "freqcalib_fac = None\n",
    "final_comp = 'cmb'\n",
    "TParr = ['T', 'P']"
   ]
  },
  {
   "cell_type": "code",
   "execution_count": 66,
   "metadata": {},
   "outputs": [
    {
     "name": "stdout",
     "output_type": "stream",
     "text": [
      "[2154.0, 4364.0, 7334.0, 7308.0]\n"
     ]
    }
   ],
   "source": [
    "#beam and noise arr\n",
    "beamarr = []\n",
    "noisearr_T, elkneearr_T, alphakneearr_T = [], [], []\n",
    "noisearr_P, elkneearr_P, alphakneearr_P = [], [], []\n",
    "for freq in freqarr:\n",
    "    beam_arcmins, white_noise_T, elknee_T, alphaknee_T, whitenoise_P, elknee_P, alphaknee_P = specs_dic[freq]\n",
    "    beamarr.append(beam_arcmins)\n",
    "    noisearr_T.append(white_noise_T)\n",
    "    noisearr_P.append(whitenoise_P)\n",
    "    elkneearr_T.append(elknee_T)\n",
    "    elkneearr_P.append(elknee_P)\n",
    "    alphakneearr_T.append(alphaknee_T)\n",
    "    alphakneearr_P.append(alphaknee_P)    \n",
    "\n",
    "print(elkneearr_T)"
   ]
  },
  {
   "cell_type": "code",
   "execution_count": 67,
   "metadata": {},
   "outputs": [],
   "source": [
    "# read and store param dict\n",
    "param_dict = misc.fn_get_param_dict(paramfile)\n",
    "el = np.arange(param_dict['lmax'])"
   ]
  },
  {
   "cell_type": "code",
   "execution_count": 68,
   "metadata": {},
   "outputs": [],
   "source": [
    "#collect beam and noise into a dic; elknee and alpha into a dic\n",
    "beam_noise_dic = {}\n",
    "elknee_dic = {}\n",
    "for TP in TParr:\n",
    "    beam_noise_dic[TP] = {}\n",
    "    elknee_dic[TP] = {} \n",
    "    if TP == 'T':\n",
    "        freqarr, beamarr, noisearr, elkneearr, alphakneearr = freqarr, beamarr, noisearr_T, elkneearr_T, alphakneearr_T\n",
    "    elif TP == 'P':\n",
    "        freqarr, beamarr, noisearr, elkneearr, alphakneearr = freqarr, beamarr, noisearr_P, elkneearr_P, alphakneearr_P\n",
    "\n",
    "    for (freq, beam, noise, elknee, alphaknee) in zip(freqarr, beamarr, noisearr, elkneearr, alphakneearr):\n",
    "        beam_noise_dic[TP][freq] = [beam, noise]\n",
    "        elknee_dic[TP][freq] = [elknee, alphaknee]"
   ]
  },
  {
   "cell_type": "code",
   "execution_count": 69,
   "metadata": {},
   "outputs": [
    {
     "name": "stdout",
     "output_type": "stream",
     "text": [
      "dict_keys([(93, 93), (93, 145), (93, 225), (93, 278), (145, 93), (145, 145), (145, 225), (145, 278), (225, 93), (225, 145), (225, 225), (225, 278), (278, 93), (278, 145), (278, 225), (278, 278)])\n"
     ]
    }
   ],
   "source": [
    "#get beam deconvolved noise nls\n",
    "nl_dic = {}\n",
    "for TP in TParr:\n",
    "    nl_dic[TP]={}\n",
    "    for freq1 in freqarr:\n",
    "        beamval1, noiseval1 = beam_noise_dic[TP][freq1]\n",
    "        elknee1, alphaknee1 = elknee_dic[TP][freq1]\n",
    "        for freq2 in freqarr:        \n",
    "            beamval2, noiseval2 = beam_noise_dic[TP][freq2]\n",
    "            elknee2, alphaknee2 = elknee_dic[TP][freq2]\n",
    "            \n",
    "            if freq1 == freq2:\n",
    "                nl = misc.get_nl(noiseval1, el, beamval1, elknee = elknee1, alphaknee = alphaknee1)\n",
    "            else:\n",
    "                if freq2 in corr_noise_bands[freq1]:\n",
    "                    nl = misc.get_nl(noiseval1, el, beamval1, elknee = elknee1, alphaknee = alphaknee1, \\\n",
    "                                     beamval2 = beamval2, noiseval2 = noiseval2, elknee2 = elknee2, alphaknee2 = alphaknee2, rho = rho)\n",
    "                else:\n",
    "                    nl = np.zeros( len(el) )\n",
    "            nl[el<=param_dict['lmin']] = 0.\n",
    "            ##nl[nl == 0.] = np.min(nl[nl!=0.])/1e3\n",
    "            nl_dic[TP][(freq1, freq2)] = nl\n",
    "print(nl_dic['T'].keys())"
   ]
  },
  {
   "cell_type": "code",
   "execution_count": 70,
   "metadata": {},
   "outputs": [
    {
     "name": "stdout",
     "output_type": "stream",
     "text": [
      "['cmb']\n",
      "dict_keys(['T', 'P'])\n"
     ]
    }
   ],
   "source": [
    "#get the CMB, noise, and foreground covriance\n",
    "try:\n",
    "    ignore_fg = param_dict['ignore_fg']\n",
    "except:\n",
    "    ignore_fg = []\n",
    "\n",
    "ignore_fg.append(final_comp.lower()) #the required component need not go into the covariance matrix.\n",
    "print(ignore_fg)\n",
    "\n",
    "cl_dic = {}\n",
    "for TP in TParr:\n",
    "    if TP == 'T':\n",
    "        el, cl_dic[TP] = ilc.get_analytic_covariance(param_dict, freqarr, nl_dic = nl_dic['T'], ignore_fg = ignore_fg)\n",
    "    elif TP == 'P':\n",
    "        el, cl_dic[TP] = ilc.get_analytic_covariance\\\n",
    "                    (param_dict, freqarr, nl_dic = nl_dic['P'], ignore_fg = ignore_fg, pol = 1, \\\n",
    "                    pol_frac_per_cent_dust = param_dict['pol_frac_per_cent_dust'], \\\n",
    "                    pol_frac_per_cent_radio = param_dict['pol_frac_per_cent_radio'], \\\n",
    "                    pol_frac_per_cent_tsz = param_dict['pol_frac_per_cent_tsz'], \\\n",
    "                    pol_frac_per_cent_ksz = param_dict['pol_frac_per_cent_ksz'], \\\n",
    "                    )\n",
    "print(cl_dic.keys())"
   ]
  },
  {
   "cell_type": "code",
   "execution_count": null,
   "metadata": {},
   "outputs": [],
   "source": [
    "#get the residual power now\n",
    "cl_residual = {}\n",
    "for TP in TParr:\n",
    "    cl_residual[TP] = ilc.residual_power(param_dict, freqarr, el, cl_dic[TP], final_comp = final_comp, freqcalib_fac = freqcalib_fac)"
   ]
  },
  {
   "cell_type": "code",
   "execution_count": null,
   "metadata": {},
   "outputs": [],
   "source": [
    "freq0, lmax = param_dict['freq0'], param_dict['lmax']\n",
    "foregrounds_to_plot = ['kSZ', 'tSZ', 'DG-Po', 'DG-Cl', 'RG']\n",
    "\n",
    "\n",
    "#CAMB output for plotting\n",
    "camb_file = param_dict['Dlfile_len']\n",
    "el_camb = np.loadtxt(camb_file, usecols = [0])\n",
    "dl_camb = np.loadtxt(camb_file, usecols = [1,2,3,4])\n",
    "\n",
    "cl_camb = ( Tcmb**2. * dl_camb * 2 * np.pi ) / ( el_camb[:,None] * (el_camb[:,None] + 1) )\n",
    "cl_camb *= 1e12\n",
    "cl_TT, cl_EE, cl_BB, cl_TE = cl_camb.T\n",
    "\n",
    "\n",
    "clf(); \n",
    "subplots_adjust(wspace=0.1)\n",
    "for cntr, TP in enumerate( TParr ):\n",
    "    ax = subplot(1,2,cntr+1, xscale = 'log', yscale = 'log')\n",
    "    plot(el, cl_residual[TP], 'black', lw = 2., label = r'Residual')\n",
    "    if TP == 'T':\n",
    "        plot(el_camb, cl_TT, 'gray', lw = 1., label = r'TT')\n",
    "        cl_fg = np.zeros(len(el))\n",
    "        for curr_fg in foregrounds_to_plot:\n",
    "            el_, cl_curr_fg = fg.get_foreground_power_spt(curr_fg, freq1 = freq0, lmax = lmax)\n",
    "            plot(el, cl_curr_fg, lw = 0.5, ls = '--', label = r'150: %s' %(curr_fg), alpha = 0.4)\n",
    "            cl_fg += cl_curr_fg\n",
    "        plot(el, cl_fg, lw = 0.5, ls = '--', label = r'150: All foregrounds', alpha = 1.)\n",
    "    elif TP == 'P':\n",
    "        plot(el_camb, cl_EE, 'gray', lw = 0.5, label = r'EE')\n",
    "        plot(el_camb, cl_TE, 'navy', ls = '-', lw = 0.5, label = r'TE')        \n",
    "        plot(el_camb, abs( cl_TE ), 'navy', ls = '--', lw = 0.5) \n",
    "    for freq in freqarr:\n",
    "        plot(el, nl_dic[TP][(freq, freq)], lw = 0.5, ls = '-', label = r'Noise: %s' %(freq))#, alpha = 0.5)\n",
    "    legend(loc=1, fancybox=1, ncol = 2, fontsize = 6);\n",
    "    xlim(20,lmax);ylim(1e-8,1e6);\n",
    "    xlabel(r'Multipole $\\ell$')\n",
    "    if cntr == 0: \n",
    "        ylabel(r'$C_{\\ell}$')\n",
    "    else:\n",
    "        setp(ax.get_yticklabels(which = 'both'), visible=False)\n",
    "show()"
   ]
  },
  {
   "cell_type": "code",
   "execution_count": null,
   "metadata": {},
   "outputs": [],
   "source": [
    "#opfname = 'results/S4_ilc_20204015.npy'\n",
    "opfname = 'results/%s_ilc_20204015.npy' %(expname)\n",
    "opdic = {}\n",
    "opdic['el'] = el\n",
    "opdic['cl_residual'] = cl_residual\n",
    "opdic['freqcalib_fac'] = freqcalib_fac\n",
    "opdic['param_dict'] = param_dict\n",
    "#opdic['nl_dic'] = nl_dic\n",
    "opdic['beam_noise_dic'] = beam_noise_dic\n",
    "opdic['elknee_dic'] = elknee_dic\n",
    "np.save(opfname, opdic)"
   ]
  },
  {
   "cell_type": "code",
   "execution_count": null,
   "metadata": {},
   "outputs": [],
   "source": []
  }
 ],
 "metadata": {
  "kernelspec": {
   "display_name": "Python 3",
   "language": "python",
   "name": "python3"
  },
  "language_info": {
   "codemirror_mode": {
    "name": "ipython",
    "version": 3
   },
   "file_extension": ".py",
   "mimetype": "text/x-python",
   "name": "python",
   "nbconvert_exporter": "python",
   "pygments_lexer": "ipython3",
   "version": "3.7.3"
  }
 },
 "nbformat": 4,
 "nbformat_minor": 2
}
