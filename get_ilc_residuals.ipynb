{
 "cells": [
  {
   "cell_type": "code",
   "execution_count": 12,
   "metadata": {},
   "outputs": [
    {
     "name": "stdout",
     "output_type": "stream",
     "text": [
      "The autoreload extension is already loaded. To reload it, use:\n",
      "  %reload_ext autoreload\n"
     ]
    }
   ],
   "source": [
    "%load_ext autoreload\n",
    "%autoreload 2\n",
    "\n",
    "#%pylab notebook\n",
    "%matplotlib inline\n",
    "from pylab import *\n",
    "from matplotlib import rc;rc('text', usetex=True);rc('font', weight='bold');matplotlib.rcParams['text.latex.preamble'] = [r'\\boldmath']\n",
    "rcParams['figure.dpi'] = 150\n",
    "rcParams[\"figure.facecolor\"] = 'white'\n",
    "try:\n",
    "    import os\n",
    "    rc('text.latex',preamble=r'\\usepackage{%s/apjfonts}' %(str(os.getcwd())))\n",
    "except:\n",
    "    pass"
   ]
  },
  {
   "cell_type": "code",
   "execution_count": 13,
   "metadata": {},
   "outputs": [],
   "source": [
    "import argparse, sys, numpy as np, scipy as sc, warnings, os\n",
    "sys.path.append('/Users/sraghunathan/Research/SPTPol/analysis/git/tools/')\n",
    "#or look into https://github.com/sriniraghunathan/tools\n",
    "import flatsky, tools, misc\n",
    "import ilc, foregrounds as fg\n",
    "\n",
    "#import matplotlib.cbook\n",
    "warnings.filterwarnings('ignore',category=RuntimeWarning)\n",
    "#warnings.filterwarnings('ignore', category=DeprecationWarning)\n",
    "#warnings.filterwarnings('ignore', category=matplotlib.cbook.mplDeprecation)"
   ]
  },
  {
   "cell_type": "code",
   "execution_count": 14,
   "metadata": {},
   "outputs": [],
   "source": [
    "#some constants\n",
    "h=6.62607004e-34 #Planck constant in m2 kg / s\n",
    "k_B=1.38064852e-23 #Boltzmann constant in m2 kg s-2 / K-1\n",
    "Tcmb = 2.73 #Kelvin"
   ]
  },
  {
   "cell_type": "code",
   "execution_count": 15,
   "metadata": {},
   "outputs": [],
   "source": [
    "#params\n",
    "paramfile = 'params.ini'\n",
    "freqarr = [90, 150, 220, 270]\n",
    "beamarr= [2.3, 1.5, 1.0, 0.8]\n",
    "noisearr_T = [2.0, 2.0, 6.9, 16.7]\n",
    "elkneearr_T = [2154., 4364., 7334., 7308.]\n",
    "alphakneearr_T = [3.5, 3.5, 3.5, 3.5]\n",
    "\n",
    "noisearr_P = [2.9, 2.8, 9.8, 23.6]\n",
    "elkneearr_P = [700., 700., 700., 700.]\n",
    "alphakneearr_P = [1.4, 1.4, 1.4, 1.4]\n",
    "'''\n",
    "freqarr = [90, 150, 220]#, 270]\n",
    "beamarr= [3.5,2.0,1.4]#, 0.8]\n",
    "noisearr = [1.0, 1.0, 1.0]\n",
    "elkneearr = [-1, -1, -1, -1]\n",
    "alphakneearr = [0, 0, 0, 0]\n",
    "'''\n",
    "\n",
    "freqcalib_fac = None\n",
    "final_comp = 'CMB'\n",
    "TParr = ['T', 'P']"
   ]
  },
  {
   "cell_type": "code",
   "execution_count": 16,
   "metadata": {},
   "outputs": [],
   "source": [
    "# read and store param dict\n",
    "param_dict = misc.fn_get_param_dict(paramfile)\n",
    "el = np.arange(param_dict['lmax'])"
   ]
  },
  {
   "cell_type": "code",
   "execution_count": 17,
   "metadata": {},
   "outputs": [],
   "source": [
    "#collect beam and noise into a dic; elknee and alpha into a dic\n",
    "beam_noise_dic = {}\n",
    "elknee_dic = {}\n",
    "for TP in TParr:\n",
    "    beam_noise_dic[TP] = {}\n",
    "    elknee_dic[TP] = {} \n",
    "    if TP == 'T':\n",
    "        freqarr, beamarr, noisearr, elkneearr, alphakneearr = freqarr, beamarr, noisearr_T, elkneearr_T, alphakneearr_T\n",
    "    elif TP == 'P':\n",
    "        freqarr, beamarr, noisearr, elkneearr, alphakneearr = freqarr, beamarr, noisearr_P, elkneearr_P, alphakneearr_P\n",
    "\n",
    "    for (freq, beam, noise, elknee, alphaknee) in zip(freqarr, beamarr, noisearr, elkneearr, alphakneearr):\n",
    "        beam_noise_dic[TP][freq] = [beam, noise]\n",
    "        elknee_dic[TP][freq] = [elknee, alphaknee]"
   ]
  },
  {
   "cell_type": "code",
   "execution_count": 18,
   "metadata": {},
   "outputs": [],
   "source": [
    "#get beam deconvolved noise nls\n",
    "nl_dic = {}\n",
    "for TP in TParr:\n",
    "    nl_dic[TP]={}\n",
    "    for freq in freqarr:\n",
    "        beamval, noiseval = beam_noise_dic[TP][freq]\n",
    "        elknee, alphaknee = elknee_dic[TP][freq]\n",
    "\n",
    "        nl = misc.get_nl(noiseval, el, beamval, elknee = elknee, alphaknee = alphaknee)\n",
    "        nl[el<=param_dict['lmin']] = 0.\n",
    "        nl[nl == 0.] = np.min(nl[nl!=0.])/1e3\n",
    "        nl_dic[TP][freq] = nl"
   ]
  },
  {
   "cell_type": "code",
   "execution_count": 19,
   "metadata": {},
   "outputs": [
    {
     "name": "stdout",
     "output_type": "stream",
     "text": [
      "dict_keys(['T', 'P'])\n"
     ]
    }
   ],
   "source": [
    "#get the CMB, noise, and foreground covriance\n",
    "try:\n",
    "    ignore_fg = param_dict['ignore_fg']\n",
    "except:\n",
    "    ignore_fg = []\n",
    "\n",
    "ignore_fg.append(final_comp) #the required component need not go into the covariance matrix.\n",
    "\n",
    "cl_dic = {}\n",
    "for TP in TParr:\n",
    "    if TP == 'T':\n",
    "        el, cl_dic[TP] = ilc.get_covariance_dic(param_dict, freqarr, nl_dic = nl_dic['T'], ignore_fg = ignore_fg)\n",
    "    elif TP == 'P':\n",
    "        el, cl_dic[TP] = ilc.get_covariance_dic\\\n",
    "                    (param_dict, freqarr, nl_dic = nl_dic['P'], ignore_fg = ignore_fg, pol = 1, \\\n",
    "                    pol_frac_per_cent_dust = param_dict['pol_frac_per_cent_dust'], \\\n",
    "                    pol_frac_per_cent_radio = param_dict['pol_frac_per_cent_radio'], \\\n",
    "                    pol_frac_per_cent_tsz = param_dict['pol_frac_per_cent_tsz'], \\\n",
    "                    pol_frac_per_cent_ksz = param_dict['pol_frac_per_cent_ksz'], \\\n",
    "                    )\n",
    "print(cl_dic.keys())"
   ]
  },
  {
   "cell_type": "code",
   "execution_count": null,
   "metadata": {},
   "outputs": [],
   "source": [
    "#get the residual power now\n",
    "cl_residual = {}\n",
    "for TP in TParr:\n",
    "    cl_residual[TP] = ilc.residual_power(param_dict, freqarr, el, cl_dic[TP], final_comp = final_comp, freqcalib_fac = freqcalib_fac)"
   ]
  },
  {
   "cell_type": "code",
   "execution_count": null,
   "metadata": {},
   "outputs": [],
   "source": [
    "freq0, lmax = param_dict['freq0'], param_dict['lmax']\n",
    "foregrounds_to_plot = ['kSZ', 'tSZ', 'DG-Po', 'DG-Cl', 'RG']\n",
    "\n",
    "\n",
    "#CAMB output for plotting\n",
    "camb_file = param_dict['Dlfile_len']\n",
    "el_camb = np.loadtxt(camb_file, usecols = [0])\n",
    "dl_camb = np.loadtxt(camb_file, usecols = [1,2,3,4])\n",
    "\n",
    "cl_camb = ( Tcmb**2. * dl_camb * 2 * np.pi ) / ( el_camb[:,None] * (el_camb[:,None] + 1) )\n",
    "cl_camb *= 1e12\n",
    "cl_TT, cl_EE, cl_BB, cl_TE = cl_camb.T\n",
    "\n",
    "\n",
    "clf(); \n",
    "subplots_adjust(wspace=0.1)\n",
    "for cntr, TP in enumerate( TParr ):\n",
    "    ax = subplot(1,2,cntr+1, xscale = 'log', yscale = 'log')\n",
    "    plot(el, cl_residual[TP], 'black', lw = 2., label = r'Residual')\n",
    "    if TP == 'T':\n",
    "        plot(el_camb, cl_TT, 'gray', lw = 1., label = r'TT')\n",
    "        cl_fg = np.zeros(len(el))\n",
    "        for curr_fg in foregrounds_to_plot:\n",
    "            el_, cl_curr_fg = fg.get_foreground_power_george_2015(curr_fg, freq1 = freq0, lmax = lmax)\n",
    "            plot(el, cl_curr_fg, lw = 0.5, ls = '--', label = r'150: %s' %(curr_fg), alpha = 0.4)\n",
    "            cl_fg += cl_curr_fg\n",
    "        plot(el, cl_fg, lw = 0.5, ls = '--', label = r'150: All foregrounds', alpha = 1.)\n",
    "    elif TP == 'P':\n",
    "        plot(el_camb, cl_EE, 'gray', lw = 0.5, label = r'EE')\n",
    "        plot(el_camb, cl_TE, 'navy', ls = '-', lw = 0.5, label = r'TE')        \n",
    "        plot(el_camb, abs( cl_TE ), 'navy', ls = '--', lw = 0.5) \n",
    "    for freq in freqarr:\n",
    "        plot(el, nl_dic[TP][freq], lw = 0.5, ls = '-', label = r'Noise: %s' %(freq))#, alpha = 0.5)\n",
    "    legend(loc=1, fancybox=1, ncol = 2, fontsize = 6);\n",
    "    xlim(10,lmax);ylim(1e-8,1e6);\n",
    "    xlabel(r'Multipole $\\ell$')\n",
    "    if cntr == 0: \n",
    "        ylabel(r'$C_{\\ell}$')\n",
    "    else:\n",
    "        setp(ax.get_yticklabels(which = 'both'), visible=False)\n",
    "show()"
   ]
  },
  {
   "cell_type": "code",
   "execution_count": null,
   "metadata": {},
   "outputs": [],
   "source": []
  },
  {
   "cell_type": "code",
   "execution_count": null,
   "metadata": {},
   "outputs": [],
   "source": []
  }
 ],
 "metadata": {
  "kernelspec": {
   "display_name": "Python 3",
   "language": "python",
   "name": "python3"
  },
  "language_info": {
   "codemirror_mode": {
    "name": "ipython",
    "version": 3
   },
   "file_extension": ".py",
   "mimetype": "text/x-python",
   "name": "python",
   "nbconvert_exporter": "python",
   "pygments_lexer": "ipython3",
   "version": "3.7.3"
  }
 },
 "nbformat": 4,
 "nbformat_minor": 2
}
